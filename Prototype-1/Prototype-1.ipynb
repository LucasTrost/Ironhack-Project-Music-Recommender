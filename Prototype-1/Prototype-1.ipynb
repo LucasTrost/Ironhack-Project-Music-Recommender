{
 "cells": [
  {
   "cell_type": "markdown",
   "metadata": {},
   "source": [
    "## Song Recommender - Billboard Hot 100"
   ]
  },
  {
   "cell_type": "code",
   "execution_count": 1,
   "metadata": {},
   "outputs": [],
   "source": [
    "from proto1 import recommendation"
   ]
  },
  {
   "cell_type": "code",
   "execution_count": 2,
   "metadata": {},
   "outputs": [
    {
     "name": "stdout",
     "output_type": "stream",
     "text": [
      "Please enter song title: first\n",
      "Please enter artist: jack\n",
      "Did you mean: First Class, by Jack Harlow?\n",
      "Answer by 'yes' or 'no': yes\n",
      "\n",
      "Based on the song: First Class, by Jack Harlow,\n",
      "here is another Billboard Hot 100 song: Rich (Interlude), by Kendrick Lamar\n"
     ]
    }
   ],
   "source": [
    "recommendation()"
   ]
  },
  {
   "cell_type": "code",
   "execution_count": null,
   "metadata": {},
   "outputs": [],
   "source": []
  }
 ],
 "metadata": {
  "kernelspec": {
   "display_name": "Python 3",
   "language": "python",
   "name": "python3"
  },
  "language_info": {
   "codemirror_mode": {
    "name": "ipython",
    "version": 3
   },
   "file_extension": ".py",
   "mimetype": "text/x-python",
   "name": "python",
   "nbconvert_exporter": "python",
   "pygments_lexer": "ipython3",
   "version": "3.8.5"
  }
 },
 "nbformat": 4,
 "nbformat_minor": 4
}
